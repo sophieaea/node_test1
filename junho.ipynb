{
  "nbformat": 4,
  "nbformat_minor": 0,
  "metadata": {
    "colab": {
      "provenance": [],
      "authorship_tag": "ABX9TyMk4J68ebmfVsVpBhFlujHn",
      "include_colab_link": true
    },
    "kernelspec": {
      "name": "python3",
      "display_name": "Python 3"
    },
    "language_info": {
      "name": "python"
    }
  },
  "cells": [
    {
      "cell_type": "markdown",
      "metadata": {
        "id": "view-in-github",
        "colab_type": "text"
      },
      "source": [
        "<a href=\"https://colab.research.google.com/github/sophieaea/node_test1/blob/main/junho.ipynb\" target=\"_parent\"><img src=\"https://colab.research.google.com/assets/colab-badge.svg\" alt=\"Open In Colab\"/></a>"
      ]
    },
    {
      "cell_type": "code",
      "execution_count": 12,
      "metadata": {
        "colab": {
          "base_uri": "https://localhost:8080/",
          "height": 108
        },
        "id": "xJqGeGy-uBAL",
        "outputId": "30b9623a-d08a-43cc-89fd-81e7a62a6fc8"
      },
      "outputs": [
        {
          "output_type": "stream",
          "name": "stderr",
          "text": [
            "<ipython-input-12-e22da15148f1>:26: RuntimeWarning: divide by zero encountered in double_scalars\n",
            "  x_top = img_size / 2 - (img_size / 2) / tan_value\n",
            "<ipython-input-12-e22da15148f1>:30: RuntimeWarning: divide by zero encountered in double_scalars\n",
            "  x_bottom = img_size / 2 + (img_size / 2) / tan_value\n"
          ]
        },
        {
          "output_type": "display_data",
          "data": {
            "text/plain": [
              "<Figure size 100x100 with 0 Axes>"
            ]
          },
          "metadata": {}
        }
      ],
      "source": [
        "import numpy as np\n",
        "import matplotlib.pyplot as plt\n",
        "from pydrive.auth import GoogleAuth\n",
        "from pydrive.drive import GoogleDrive\n",
        "from google.colab import auth\n",
        "from oauth2client.client import GoogleCredentials\n",
        "import os\n",
        "\n",
        "plt.figure(figsize=(1, 1))\n",
        "\n",
        "def create_graded_line(angle_degrees, img_size=100):\n",
        "    # 빈 이미지 생성\n",
        "    img = np.ones((img_size, img_size)) * 255\n",
        "    img = np.uint8(img)\n",
        "\n",
        "    draw_line(angle_degrees)\n",
        "\n",
        "    return img\n",
        "\n",
        "def get_intersection_points(angle_degrees, img_size=100):\n",
        "    angle_radians = np.deg2rad(angle_degrees)\n",
        "    tan_value = np.tan(angle_radians)\n",
        "\n",
        "    intersections = []\n",
        "\n",
        "    x_top = img_size / 2 - (img_size / 2) / tan_value\n",
        "    if 0 <= x_top <= img_size:\n",
        "        intersections.append((x_top, img_size))\n",
        "\n",
        "    x_bottom = img_size / 2 + (img_size / 2) / tan_value\n",
        "    if 0 <= x_bottom <= img_size:\n",
        "        intersections.append((x_bottom, 0))\n",
        "\n",
        "    y_left = img_size / 2 - img_size / 2 * tan_value\n",
        "    if 0 <= y_left <= img_size:\n",
        "        intersections.append((0, y_left))\n",
        "\n",
        "    y_right = img_size / 2 + img_size / 2 * tan_value\n",
        "    if 0 <= y_right <= img_size:\n",
        "        intersections.append((img_size, y_right))\n",
        "\n",
        "    # 교차점이 2개 초과인 경우 필요한 교차점만 선택\n",
        "    if len(intersections) > 2:\n",
        "        # 각도가 45도 또는 -45도인 경우 대각선 교차점 선택\n",
        "        if angle_degrees == 45:\n",
        "            return [intersections[1], intersections[2]]\n",
        "        elif angle_degrees == -45:\n",
        "            return [intersections[0], intersections[3]]\n",
        "        elif 0 < angle_degrees < 90:\n",
        "            return [intersections[2], intersections[3]]\n",
        "        elif -90 < angle_degrees < 0:\n",
        "            return [intersections[0], intersections[1]]\n",
        "    return intersections\n",
        "\n",
        "def draw_line(angle_degrees, img_size=100):\n",
        "    intersections = get_intersection_points(angle_degrees, img_size)\n",
        "    if len(intersections) != 2:\n",
        "        print(\"올바르지 않은 교차점입니다.\")\n",
        "        return\n",
        "\n",
        "    start, end = intersections\n",
        "\n",
        "    # 여기에서 color='black'을 추가하여 직선의 색상을 검정으로 설정\n",
        "    plt.plot([start[0], end[0]], [start[1], end[1]], label=f'{angle_degrees}°', color='black')\n",
        "    #plt.legend()\n",
        "    plt.tight_layout()  # 여백 제거\n",
        "    plt.axis('off')  # 축 제거\n",
        "\n",
        "    plt.xlim(0, img_size)\n",
        "    plt.ylim(0, img_size)\n",
        "    plt.gca().set_aspect('equal', adjustable='box')\n",
        "    plt.gca().invert_yaxis()  # 이미지 좌표계와 일치시키기 위해 y축을 뒤집습니다.\n",
        "     # 서브플롯의 여백을 0으로 조정\n",
        "    plt.subplots_adjust(top=1, bottom=0, right=1, left=0, hspace=0, wspace=0)\n",
        "    plt.margins(0, 0)\n",
        "    plt.gca().xaxis.set_major_locator(plt.NullLocator())\n",
        "    plt.gca().yaxis.set_major_locator(plt.NullLocator())\n",
        "    #plt.grid(True)\n",
        "\n",
        "def save_image_to_drive(img, filename, folder_id):\n",
        "    # 일시적으로 이미지 저장\n",
        "    plt.savefig(filename, dpi=100, bbox_inches='tight')\n",
        "\n",
        "    # 저장한 이미지를 구글 드라이브에 업로드\n",
        "    file = drive.CreateFile({\n",
        "        'title': filename,\n",
        "        'parents': [{'id': folder_id}]\n",
        "    })\n",
        "    file.SetContentFile(filename)\n",
        "    file.Upload()\n",
        "    # 로컬에서 일시 저장한 이미지 삭제\n",
        "    os.remove(filename)\n",
        "\n",
        "\n",
        "def draw_and_save_line(img, angle_degrees, folder_id=None):\n",
        "\n",
        "    if folder_id:\n",
        "        filename = f\"line_{angle_degrees}.png\"\n",
        "        save_image_to_drive(img, filename, folder_id)\n",
        "        plt.clf()\n",
        "\n",
        "# Google Drive 인증\n",
        "auth.authenticate_user()\n",
        "gauth = GoogleAuth()\n",
        "gauth.credentials = GoogleCredentials.get_application_default()\n",
        "drive = GoogleDrive(gauth)\n",
        "\n",
        "folder_id = '116aMuleNnn0OCLnBcPEyqPxgcTwwahAh'  # Google Drive 폴더 ID를 여기에 입력하세요.\n",
        "\n",
        "for angle in range(0, 181, 1):  # 0도부터 179도까지 1도 간격으로 직선 이미지 생성 및 저장\n",
        "    img = create_graded_line(angle)\n",
        "    filename = f\"line_{angle}.png\"\n",
        "    draw_and_save_line(img, angle, folder_id)\n"
      ]
    },
    {
      "cell_type": "code",
      "source": [],
      "metadata": {
        "id": "GG7B3QwzxVbR"
      },
      "execution_count": null,
      "outputs": []
    }
  ]
}