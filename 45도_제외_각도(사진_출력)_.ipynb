{
  "nbformat": 4,
  "nbformat_minor": 0,
  "metadata": {
    "colab": {
      "provenance": [],
      "authorship_tag": "ABX9TyPxyPEar4EfYvZyFjuvtOp2",
      "include_colab_link": true
    },
    "kernelspec": {
      "name": "python3",
      "display_name": "Python 3"
    },
    "language_info": {
      "name": "python"
    }
  },
  "cells": [
    {
      "cell_type": "markdown",
      "metadata": {
        "id": "view-in-github",
        "colab_type": "text"
      },
      "source": [
        "<a href=\"https://colab.research.google.com/github/sophieaea/node_test1/blob/main/45%EB%8F%84_%EC%A0%9C%EC%99%B8_%EA%B0%81%EB%8F%84(%EC%82%AC%EC%A7%84_%EC%B6%9C%EB%A0%A5)_.ipynb\" target=\"_parent\"><img src=\"https://colab.research.google.com/assets/colab-badge.svg\" alt=\"Open In Colab\"/></a>"
      ]
    },
    {
      "cell_type": "code",
      "execution_count": 15,
      "metadata": {
        "id": "dszwwMxoFraV",
        "colab": {
          "base_uri": "https://localhost:8080/",
          "height": 117
        },
        "outputId": "e34b11a5-deba-4ef9-8964-f45e251e7d87"
      },
      "outputs": [
        {
          "output_type": "display_data",
          "data": {
            "text/plain": [
              "<PIL.Image.Image image mode=RGB size=100x100 at 0x7F0F80773670>"
            ],
            "image/png": "[encoded data removed]"
          },
          "metadata": {}
        }
      ],
      "source": [
        "# 45도 제외 각도 사진 출력 코드(renewal) \n",
        "from PIL import Image, ImageDraw\n",
        "import math\n",
        "\n",
        "# Create a new image with white background\n",
        "image = Image.new(\"RGB\", (100, 100), \"white\")\n",
        "\n",
        "# Create a drawing object\n",
        "draw = ImageDraw.Draw(image)\n",
        "\n",
        "# Define the colors for the gray lines\n",
        "gray_color_1 = (130, 130, 130)  # Adjust the RGB values for the first gray line\n",
        "gray_color_2 = (175, 175, 175)  # Adjust the RGB values for the second gray line\n",
        "gray_color_3 = (220, 220, 220)  # Adjust the RGB values for the second gray line\n",
        "\n",
        "# Define the fixed point coordinates\n",
        "fixed_x, fixed_y = 50, 50\n",
        "\n",
        "# Rotate the lines by 60 degrees\n",
        "rotation_angle = 60\n",
        "\n",
        "rotation_angle_radians = math.radians(rotation_angle)\n",
        "line_length = 300  # Adjust the line length to extend beyond the image\n",
        "\n",
        "# Calculate the line endpoints\n",
        "start_x = fixed_x - line_length // 2\n",
        "end_x = fixed_x + line_length // 2\n",
        "start_y = int(fixed_y + (start_x - fixed_x) * math.tan(rotation_angle_radians))\n",
        "end_y = int(fixed_y + (end_x - fixed_x) * math.tan(rotation_angle_radians))\n",
        "\n",
        "# Draw the rotated second gray_color_3 line\n",
        "line_width_3 = 7\n",
        "draw.line([(start_x, start_y), (end_x, end_y)], fill=gray_color_3, width=line_width_3)\n",
        "\n",
        "# Draw the rotated second gray_color_2 line\n",
        "line_width_2 = 5\n",
        "draw.line([(start_x, start_y), (end_x, end_y)], fill=gray_color_2, width=line_width_2)\n",
        "\n",
        "# Draw the rotated first gray_color_1 line\n",
        "line_width_1 = 3\n",
        "draw.line([(start_x, start_y), (end_x, end_y)], fill=gray_color_1, width=line_width_1)\n",
        "\n",
        "# Draw the rotated black line\n",
        "draw.line([(start_x, start_y), (end_x, end_y)], fill=\"black\")\n",
        "\n",
        "# Save the image\n",
        "image.save(\"image_with_extended_lines.png\")\n",
        "\n",
        "# Display the image\n",
        "image.show()\n"
      ]
    },
    {
      "cell_type": "code",
      "source": [],
      "metadata": {
        "id": "50O3jNM_H2Rd"
      },
      "execution_count": null,
      "outputs": []
    }
  ]
}