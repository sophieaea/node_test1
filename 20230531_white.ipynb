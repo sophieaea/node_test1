{
  "nbformat": 4,
  "nbformat_minor": 0,
  "metadata": {
    "colab": {
      "provenance": [],
      "authorship_tag": "ABX9TyPvDTV/D1IAqZNso4qrs+i+",
      "include_colab_link": true
    },
    "kernelspec": {
      "name": "python3",
      "display_name": "Python 3"
    },
    "language_info": {
      "name": "python"
    }
  },
  "cells": [
    {
      "cell_type": "markdown",
      "metadata": {
        "id": "view-in-github",
        "colab_type": "text"
      },
      "source": [
        "<a href=\"https://colab.research.google.com/github/sophieaea/node_test1/blob/main/20230531_white.ipynb\" target=\"_parent\"><img src=\"https://colab.research.google.com/assets/colab-badge.svg\" alt=\"Open In Colab\"/></a>"
      ]
    },
    {
      "cell_type": "code",
      "execution_count": 15,
      "metadata": {
        "id": "p4u743Imx4QF"
      },
      "outputs": [],
      "source": [
        "import cv2\n",
        "import numpy as np\n",
        "import math\n",
        "from google.colab.patches import cv2_imshow"
      ]
    },
    {
      "cell_type": "code",
      "source": [
        "# Create a white background image\n",
        "image_size = (100, 100)\n",
        "image = np.ones((*image_size, 3), dtype=np.uint8) * 255"
      ],
      "metadata": {
        "id": "2i9B1GSOx7nX"
      },
      "execution_count": 11,
      "outputs": []
    },
    {
      "cell_type": "code",
      "source": [
        "\n",
        "import cv2\n",
        "import numpy as np\n",
        "from google.colab.patches import cv2_imshow\n",
        "\n",
        "# Create a white background image\n",
        "image = np.ones((100, 100, 3), dtype=np.uint8) * 255\n",
        "\n",
        "# Line parameters\n",
        "line_thickness = 1\n",
        "line_color_levels = [127, 127, 0]  # Black, Gray, White\n",
        "\n",
        "# Prompt the user to enter the angle of the line\n",
        "theta = float(input(\"Enter the angle of the line (0-360 degrees): \"))\n",
        "\n",
        "# Calculate the diagonal length of the image\n",
        "diagonal_length = int(np.sqrt(image.shape[0]**2 + image.shape[1]**2))\n",
        "\n",
        "# Calculate line length based on the diagonal length and angle\n",
        "angle_rad = np.deg2rad(theta)\n",
        "line_length = int(diagonal_length * np.abs(np.cos(angle_rad - np.pi/4)))\n",
        "\n",
        "# Calculate line start and end points at the center\n",
        "center_x = int(image.shape[1] / 2)\n",
        "center_y = int(image.shape[0] / 2)\n",
        "line_start = (center_x - int(line_length / 2 * np.cos(angle_rad)), center_y - int(line_length / 2 * np.sin(angle_rad)))\n",
        "line_end = (center_x + int(line_length / 2 * np.cos(angle_rad)), center_y + int(line_length / 2 * np.sin(angle_rad)))\n",
        "\n",
        "# Generate the black gradient line\n",
        "for i in range(line_length):\n",
        "    # Calculate the brightness level based on the position along the line\n",
        "    brightness_index = int(i * (len(line_color_levels) - 1) / (line_length - 1))\n",
        "    brightness = line_color_levels[brightness_index]\n",
        "\n",
        "    # Set the line color with the calculated brightness level\n",
        "    line_color = (brightness, brightness, brightness)\n",
        "\n",
        "    # Calculate the coordinates along the line\n",
        "    x = int(line_start[0] + i * np.cos(angle_rad))\n",
        "    y = int(line_start[1] + i * np.sin(angle_rad))\n",
        "\n",
        "    # Draw a pixel at the calculated coordinates\n",
        "    cv2.line(image, (x, y), (x, y), line_color, line_thickness)\n",
        "\n",
        "# Display the resulting image\n",
        "cv2_imshow(image)\n",
        "\n",
        "# Save the image to Google Drive\n",
        "cv2.imwrite('/content/drive/MyDrive/line_image.jpg', image)\n",
        "cv2.destroyAllWindows()\n"
      ],
      "metadata": {
        "colab": {
          "base_uri": "https://localhost:8080/",
          "height": 135
        },
        "id": "1KfVf5KZ5XVH",
        "outputId": "f02d4f32-d9e3-4569-8324-cdef9e292d97"
      },
      "execution_count": 82,
      "outputs": [
        {
          "name": "stdout",
          "output_type": "stream",
          "text": [
            "Enter the angle of the line (0-360 degrees): 45\n"
          ]
        },
        {
          "output_type": "display_data",
          "data": {
            "text/plain": [
              "<PIL.Image.Image image mode=RGB size=100x100 at 0x7FAC2412D810>"
            ],
            "image/png": "[encoded data removed]"
          },
          "metadata": {}
        }
      ]
    }
  ]
}